{
  "nbformat": 4,
  "nbformat_minor": 0,
  "metadata": {
    "colab": {
      "provenance": []
    },
    "kernelspec": {
      "name": "python3",
      "display_name": "Python 3"
    },
    "language_info": {
      "name": "python"
    }
  },
  "cells": [
    {
      "cell_type": "markdown",
      "source": [
        "# **Taller 1 Procesamiento digital de imágenes**\n",
        " Juan Daniel Gonzalez Gonzalez\n",
        "\n",
        "\n",
        "\n",
        "\n",
        "1. Crea variables para almacenar tu nombre, edad y ciudad de origen. Luego, imprime una frase que use todas estas variables."
      ],
      "metadata": {
        "id": "96nBicqWIjga"
      }
    },
    {
      "cell_type": "code",
      "execution_count": 74,
      "metadata": {
        "colab": {
          "base_uri": "https://localhost:8080/"
        },
        "id": "hsmuibU6IZoh",
        "outputId": "294720ba-1b99-485a-d91b-1b53acd7e2bc"
      },
      "outputs": [
        {
          "output_type": "stream",
          "name": "stdout",
          "text": [
            "Hola soy Juan Daniel Gonzalez tengo 20 años y provengo de Ibagué\n"
          ]
        }
      ],
      "source": [
        "nombre = \"Juan Daniel Gonzalez\"\n",
        "edad = 20\n",
        "ciudad_de_origen = \"Ibagué\"\n",
        "\n",
        "print('Hola soy '+ nombre + \" tengo \" + str(edad) + \" años y provengo de \" + ciudad_de_origen)"
      ]
    },
    {
      "cell_type": "markdown",
      "source": [
        "  2. Dadas dos variables `a = 10` y `b = 20`, realiza las operaciones básicas:\n",
        "suma, resta, multiplicación, división y potencia. Imprime los resultados."
      ],
      "metadata": {
        "id": "oIW62oejKjVG"
      }
    },
    {
      "cell_type": "code",
      "source": [
        "a = 10\n",
        "b = 20\n",
        "\n",
        "suma = a+b\n",
        "resta = a-b\n",
        "multiplicacion = a*b\n",
        "division = a/b\n",
        "potencia = a**b\n",
        "\n",
        "print('Suma: '+ str(suma) + '\\n Resta: ' + str(resta)  + '\\n Multiplicación: ' + str(multiplicacion) + '\\n División: ' + str(division)  + '\\n Potencia: ' + str(potencia))"
      ],
      "metadata": {
        "colab": {
          "base_uri": "https://localhost:8080/"
        },
        "id": "W_ZE8E69Kqzu",
        "outputId": "74a8564f-c2b9-40d4-c7b7-c269e6eb053a"
      },
      "execution_count": 75,
      "outputs": [
        {
          "output_type": "stream",
          "name": "stdout",
          "text": [
            "Suma: 30\n",
            " Resta: -10\n",
            " Multiplicación: 200\n",
            " División: 0.5\n",
            " Potencia: 100000000000000000000\n"
          ]
        }
      ]
    },
    {
      "cell_type": "markdown",
      "source": [
        "  3. Concatena dos cadenas de texto y realiza una operación que incluya la\n",
        "longitud de una cadena."
      ],
      "metadata": {
        "id": "w0q7PzlHLr-s"
      }
    },
    {
      "cell_type": "code",
      "source": [
        "cadena_concatenada = nombre + ciudad_de_origen\n",
        "longitud_cadena = len(cadena_concatenada)\n",
        "print(f'Cadena: {cadena_concatenada}, Longitud: {longitud_cadena}')"
      ],
      "metadata": {
        "colab": {
          "base_uri": "https://localhost:8080/"
        },
        "id": "iT7GW3gzLwCZ",
        "outputId": "2f803821-9ac6-4ff5-9d4a-d1dacad9103e"
      },
      "execution_count": 76,
      "outputs": [
        {
          "output_type": "stream",
          "name": "stdout",
          "text": [
            "Cadena: Juan Daniel GonzalezIbagué, Longitud: 26\n"
          ]
        }
      ]
    },
    {
      "cell_type": "markdown",
      "source": [
        "  4. Escribe un programa que compare dos números y muestre cuál es mayor\n",
        "o si son iguales."
      ],
      "metadata": {
        "id": "adoLY12oM-Td"
      }
    },
    {
      "cell_type": "code",
      "source": [
        "primer_numero = float(input('Digita el primer número: '))\n",
        "segundo_numero = float(input('Digita el segundo número: '))\n",
        "numero_mayor = 0\n",
        "\n",
        "if primer_numero > segundo_numero:\n",
        "  print(f\"El mayor número es {primer_numero}\")\n",
        "elif segundo_numero > primer_numero:\n",
        "  print(f\"El mayor número es {segundo_numero}\")\n",
        "else:\n",
        "  print(\"Los numeros son iguales\")"
      ],
      "metadata": {
        "colab": {
          "base_uri": "https://localhost:8080/"
        },
        "id": "HkXIF1HCNFNI",
        "outputId": "1cbac036-c5ef-4ba6-f67f-481786dec786"
      },
      "execution_count": 77,
      "outputs": [
        {
          "output_type": "stream",
          "name": "stdout",
          "text": [
            "Digita el primer número: 2\n",
            "Digita el segundo número: 2\n",
            "Los numeros son iguales\n"
          ]
        }
      ]
    },
    {
      "cell_type": "markdown",
      "source": [
        "  5. Usa un ciclo `for` para imprimir los números del 1 al 10."
      ],
      "metadata": {
        "id": "QrDpkEveOXtS"
      }
    },
    {
      "cell_type": "code",
      "source": [
        "for i in range(10):\n",
        "  print(i+1)"
      ],
      "metadata": {
        "colab": {
          "base_uri": "https://localhost:8080/"
        },
        "id": "IZ3_33PzOXQs",
        "outputId": "42537e13-b61f-4df0-dede-ad5ce1ced9f7"
      },
      "execution_count": 78,
      "outputs": [
        {
          "output_type": "stream",
          "name": "stdout",
          "text": [
            "1\n",
            "2\n",
            "3\n",
            "4\n",
            "5\n",
            "6\n",
            "7\n",
            "8\n",
            "9\n",
            "10\n"
          ]
        }
      ]
    },
    {
      "cell_type": "markdown",
      "source": [
        "  6. Implementa un ciclo `while` que continúe solicitando al usuario un\n",
        "número hasta que ingrese el número 5."
      ],
      "metadata": {
        "id": "pHas66mOOo8I"
      }
    },
    {
      "cell_type": "code",
      "source": [
        "numero_usuario = 0\n",
        "while numero_usuario != 5:\n",
        "  numero_usuario = int(input('Ingresa el número 5: '))\n",
        "\n",
        "print(\"Gracias\")"
      ],
      "metadata": {
        "colab": {
          "base_uri": "https://localhost:8080/"
        },
        "id": "OTwTGtLtOoc3",
        "outputId": "297e9788-7149-4622-d4bb-ce04a7fad8a9"
      },
      "execution_count": 79,
      "outputs": [
        {
          "output_type": "stream",
          "name": "stdout",
          "text": [
            "Ingresa el número 5: 2\n",
            "Ingresa el número 5: 5\n",
            "Gracias\n"
          ]
        }
      ]
    },
    {
      "cell_type": "markdown",
      "source": [
        "  7. Crea un array de NumPy con valores de 1 a 10 y luego realiza una\n",
        "operación que multiplique todos los elementos por 2. Imprime el resultado\n",
        "acumulado."
      ],
      "metadata": {
        "id": "fy2bLEnoPN51"
      }
    },
    {
      "cell_type": "code",
      "source": [
        "import numpy as np\n",
        "\n",
        "one_to_ten = np.arange(1,11,1)\n",
        "one_to_ten *= 2\n",
        "one_to_ten"
      ],
      "metadata": {
        "colab": {
          "base_uri": "https://localhost:8080/"
        },
        "id": "d4Y09dutPQHc",
        "outputId": "00973596-848c-4b35-c0bc-b95b598b3c72"
      },
      "execution_count": 80,
      "outputs": [
        {
          "output_type": "execute_result",
          "data": {
            "text/plain": [
              "array([ 2,  4,  6,  8, 10, 12, 14, 16, 18, 20])"
            ]
          },
          "metadata": {},
          "execution_count": 80
        }
      ]
    },
    {
      "cell_type": "markdown",
      "source": [
        "  8. Escribe una función que tome dos argumentos y devuelva sign(x^2- y^2\n",
        ")*sqrt(C*abs( x^2- y^2 ))"
      ],
      "metadata": {
        "id": "9mqsK2Lfgs4b"
      }
    },
    {
      "cell_type": "code",
      "source": [
        "import math\n",
        "def function_example(x,y, C = 1):\n",
        "  return np.sign(x**2- y**2 )*math.sqrt(C*abs( x**2- y**2 ))\n",
        "\n",
        "function_example(3,2)"
      ],
      "metadata": {
        "colab": {
          "base_uri": "https://localhost:8080/"
        },
        "id": "zwUzyca4gsiI",
        "outputId": "0c0d4d11-c3d7-4b0b-a0a3-0000ee17f26d"
      },
      "execution_count": 81,
      "outputs": [
        {
          "output_type": "execute_result",
          "data": {
            "text/plain": [
              "2.23606797749979"
            ]
          },
          "metadata": {},
          "execution_count": 81
        }
      ]
    },
    {
      "cell_type": "markdown",
      "source": [
        "  9. Clase “Auto” con Métodos\n",
        "\n",
        "    9.1. Crea una clase llamada “Auto”. Esta clase debe tener tres atributos: `marca`, “modelo”, y “año”.\n",
        "    \n",
        "    9.2. Implementa un método llamado “actualizar_año” que permita cambiar el año del auto a un nuevo valor pasado como argumento.\n",
        "\n",
        "    9.3. Añade un método llamado “mostrar_informacion” que imprima la marca, el\n",
        "    modelo, y el año del auto en una sola línea."
      ],
      "metadata": {
        "id": "RotNGeVijLQx"
      }
    },
    {
      "cell_type": "code",
      "source": [
        "class Auto:\n",
        "\n",
        "  def __init__(self, marca, modelo, año):\n",
        "    self.marca = marca\n",
        "    self.modelo = modelo\n",
        "    self.año = año\n",
        "\n",
        "  def actualizar_año(self, nuevo_año):\n",
        "    self.año = nuevo_año\n",
        "\n",
        "  def mostrar_informacion(self):\n",
        "    print(f\"La marca del carro es {self.marca} en su modelo {self.modelo} del año {self.año}\")"
      ],
      "metadata": {
        "id": "uoqLoZR8jVW3"
      },
      "execution_count": 82,
      "outputs": []
    },
    {
      "cell_type": "markdown",
      "source": [
        "  9.4. Crea una instancia de “Auto” con la marca, modelo y año de tu elección.\n",
        "\n",
        "  9.5. Llama al método “mostrar_informacion” para mostrar los detalles iniciales del auto.\n",
        "\n",
        "  9.6. Utiliza el método “actualizar_año” para cambiar el año del auto a un nuevo valor.\n",
        "  \n",
        "  9.7. Vuelve a llamar a “mostrar_informacion” para verificar que el año ha sido"
      ],
      "metadata": {
        "id": "Ey-XBX_Un1SZ"
      }
    },
    {
      "cell_type": "code",
      "source": [
        "renault4 = Auto(\"Renault\", \"Renault R4 Master\", 1990)\n",
        "renault4.mostrar_informacion()"
      ],
      "metadata": {
        "colab": {
          "base_uri": "https://localhost:8080/"
        },
        "id": "WvAGx-K6n9fl",
        "outputId": "e96e2ebd-13ef-4f5d-dca2-bb7d96be4a50"
      },
      "execution_count": 83,
      "outputs": [
        {
          "output_type": "stream",
          "name": "stdout",
          "text": [
            "La marca del carro es Renault en su modelo Renault R4 Master del año 1990\n"
          ]
        }
      ]
    },
    {
      "cell_type": "code",
      "source": [
        "renault4.actualizar_año(1991)\n",
        "renault4.mostrar_informacion()"
      ],
      "metadata": {
        "colab": {
          "base_uri": "https://localhost:8080/"
        },
        "id": "ym1-JXi8obNa",
        "outputId": "5b49db29-2cc4-4a95-8031-f464bf296b74"
      },
      "execution_count": 84,
      "outputs": [
        {
          "output_type": "stream",
          "name": "stdout",
          "text": [
            "La marca del carro es Renault en su modelo Renault R4 Master del año 1991\n"
          ]
        }
      ]
    },
    {
      "cell_type": "markdown",
      "source": [
        "10. Herencia en Clases “Vehículo” y “Moto”\n",
        "\n",
        "  10.1. Clase Base “Vehículo”: Define una clase “Vehículo” con atributos “marca”, “modelo”, y “año”. Incluye un método “mostrar_informacion” que imprime los detalles del vehículo."
      ],
      "metadata": {
        "id": "bS3YxEp-o960"
      }
    },
    {
      "cell_type": "code",
      "source": [
        "class Vehiculo:\n",
        "\n",
        "  def __init__(self, marca, modelo, año):\n",
        "    self.marca = marca\n",
        "    self.modelo = modelo\n",
        "    self.año = año\n",
        "\n",
        "  def mostrar_informacion(self):\n",
        "    print(f\"La marca del vehículo es {self.marca} en su modelo {self.modelo} del año {self.año}\")"
      ],
      "metadata": {
        "id": "j7XrAUEEpT2Y"
      },
      "execution_count": 85,
      "outputs": []
    },
    {
      "cell_type": "markdown",
      "source": [
        "  10.2 Clase Derivada “Moto”: - Crea una clase `Moto` que herede de `Vehiculo` y\n",
        "  añade un atributo adicional: `cilindrada`. Sobrescribe el método\n",
        "  “mostrar_informacion” en “Moto” para que también muestre la cilindrada del\n",
        "  vehículo. Añade un método “modificar_cilindrada” que actualice la cilindrada\n",
        "  de la moto."
      ],
      "metadata": {
        "id": "SwTgkQYSpccL"
      }
    },
    {
      "cell_type": "code",
      "source": [
        "class Moto(Vehiculo):\n",
        "    def __init__(self, marca, modelo, año, cilindrada):\n",
        "      super().__init__(marca, modelo, año)\n",
        "      self.cilindrada = cilindrada\n",
        "\n",
        "    def mostrar_informacion(self):\n",
        "      super().mostrar_informacion()\n",
        "      print(f\"Cilindrada: {self.cilindrada} cc\")\n",
        "\n",
        "    def modificar_cilindrada(self, nuevo_cilindraje):\n",
        "      self.cilindrada = nuevo_cilindraje"
      ],
      "metadata": {
        "id": "hZwLwqRvpoUL"
      },
      "execution_count": 86,
      "outputs": []
    },
    {
      "cell_type": "markdown",
      "source": [
        "  10.3 Uso de las Clases: Instancia un objeto de la clase “Vehículo” y muestra su información. Crea una instancia de la clase “Moto”, usa “mostrar_informacion” para mostrar todos sus detalles, incluyendo la cilindrada. Cambia la cilindrada de la moto utilizando el método “modificar_cilindrada” y muestra la información actualizada."
      ],
      "metadata": {
        "id": "c4QXTAbkqqQO"
      }
    },
    {
      "cell_type": "code",
      "source": [
        "jeep = Vehiculo(\"Jeep\", \"Jeep Willys Cj 6\", 1955)\n",
        "jeep.mostrar_informacion()"
      ],
      "metadata": {
        "colab": {
          "base_uri": "https://localhost:8080/"
        },
        "id": "FHlUmiHXq8mu",
        "outputId": "f2d8ad78-ae86-473b-b504-e23692fb566e"
      },
      "execution_count": 87,
      "outputs": [
        {
          "output_type": "stream",
          "name": "stdout",
          "text": [
            "La marca del vehículo es Jeep en su modelo Jeep Willys Cj 6 del año 1955\n"
          ]
        }
      ]
    },
    {
      "cell_type": "code",
      "source": [
        "yamaha= Moto(\"Yamaha\", \"Yamaha V80\", 2003, 79)\n",
        "yamaha.mostrar_informacion()"
      ],
      "metadata": {
        "colab": {
          "base_uri": "https://localhost:8080/"
        },
        "id": "E5Bf23q1rLgy",
        "outputId": "c5b6108c-ef55-4e21-bbb0-2d97f74612bc"
      },
      "execution_count": 88,
      "outputs": [
        {
          "output_type": "stream",
          "name": "stdout",
          "text": [
            "La marca del vehículo es Yamaha en su modelo Yamaha V80 del año 2003\n",
            "Cilindrada: 79 cc\n"
          ]
        }
      ]
    },
    {
      "cell_type": "code",
      "source": [
        "yamaha.modificar_cilindrada(150)\n",
        "yamaha.mostrar_informacion()"
      ],
      "metadata": {
        "colab": {
          "base_uri": "https://localhost:8080/"
        },
        "id": "Q8NIBfpsuVMM",
        "outputId": "05310a68-e351-4e36-9b23-76bf50feb20a"
      },
      "execution_count": 90,
      "outputs": [
        {
          "output_type": "stream",
          "name": "stdout",
          "text": [
            "La marca del vehículo es Yamaha en su modelo Yamaha V80 del año 2003\n",
            "Cilindrada: 150 cc\n"
          ]
        }
      ]
    }
  ]
}